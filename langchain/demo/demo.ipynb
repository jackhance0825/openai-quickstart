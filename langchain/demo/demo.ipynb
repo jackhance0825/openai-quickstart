{
 "cells": [
  {
   "cell_type": "markdown",
   "id": "37035311-f252-4311-8087-388f500e3d2a",
   "metadata": {},
   "source": [
    "## 国内huggingface端点"
   ]
  },
  {
   "cell_type": "code",
   "execution_count": 1,
   "id": "5ecf182c-21ed-4460-a7b6-d617bf357936",
   "metadata": {},
   "outputs": [],
   "source": [
    "HF_ENDPOINT='https://hf-mirror.com'"
   ]
  },
  {
   "cell_type": "code",
   "execution_count": 2,
   "id": "d826f54b-6516-4d3c-b830-8cfdc89d432a",
   "metadata": {},
   "outputs": [],
   "source": [
    "def download(repo_id: str, repo_type: str):\n",
    "    from huggingface_hub import snapshot_download\n",
    "    snapshot_download(repo_id=repo_id,\n",
    "                      repo_type=repo_type,\n",
    "                      resume_download=False,\n",
    "                      force_download=True,\n",
    "                      endpoint=HF_ENDPOINT,\n",
    "                      local_dir=f'./{repo_id}')"
   ]
  },
  {
   "cell_type": "markdown",
   "id": "a101d16a-8c32-4c73-8bbe-6dabcf011a4a",
   "metadata": {},
   "source": [
    "## 1. 创建embedding模型"
   ]
  },
  {
   "cell_type": "code",
   "execution_count": 3,
   "id": "bcf1ca33-4fa8-4fcc-9a80-673cf514b499",
   "metadata": {
    "scrolled": true
   },
   "outputs": [
    {
     "name": "stdout",
     "output_type": "stream",
     "text": [
      "Requirement already satisfied: sentence_transformers in e:\\python\\python311\\lib\\site-packages (2.7.0)\n",
      "Requirement already satisfied: transformers<5.0.0,>=4.34.0 in e:\\python\\python311\\lib\\site-packages (from sentence_transformers) (4.40.1)\n",
      "Requirement already satisfied: tqdm in e:\\python\\python311\\lib\\site-packages (from sentence_transformers) (4.66.1)\n",
      "Requirement already satisfied: torch>=1.11.0 in e:\\python\\python311\\lib\\site-packages (from sentence_transformers) (2.1.1)\n",
      "Requirement already satisfied: numpy in e:\\python\\python311\\lib\\site-packages (from sentence_transformers) (1.26.2)\n",
      "Requirement already satisfied: scikit-learn in e:\\python\\python311\\lib\\site-packages (from sentence_transformers) (1.3.2)\n",
      "Requirement already satisfied: scipy in e:\\python\\python311\\lib\\site-packages (from sentence_transformers) (1.11.4)\n",
      "Requirement already satisfied: huggingface-hub>=0.15.1 in e:\\python\\python311\\lib\\site-packages (from sentence_transformers) (0.19.4)\n",
      "Requirement already satisfied: Pillow in e:\\python\\python311\\lib\\site-packages (from sentence_transformers) (10.1.0)\n",
      "Requirement already satisfied: filelock in e:\\python\\python311\\lib\\site-packages (from huggingface-hub>=0.15.1->sentence_transformers) (3.13.1)\n",
      "Requirement already satisfied: fsspec>=2023.5.0 in e:\\python\\python311\\lib\\site-packages (from huggingface-hub>=0.15.1->sentence_transformers) (2023.12.2)\n",
      "Requirement already satisfied: requests in e:\\python\\python311\\lib\\site-packages (from huggingface-hub>=0.15.1->sentence_transformers) (2.31.0)\n",
      "Requirement already satisfied: pyyaml>=5.1 in e:\\python\\python311\\lib\\site-packages (from huggingface-hub>=0.15.1->sentence_transformers) (6.0.1)\n",
      "Requirement already satisfied: typing-extensions>=3.7.4.3 in e:\\python\\python311\\lib\\site-packages (from huggingface-hub>=0.15.1->sentence_transformers) (4.8.0)\n",
      "Requirement already satisfied: packaging>=20.9 in e:\\python\\python311\\lib\\site-packages (from huggingface-hub>=0.15.1->sentence_transformers) (23.2)\n",
      "Requirement already satisfied: sympy in e:\\python\\python311\\lib\\site-packages (from torch>=1.11.0->sentence_transformers) (1.12)\n",
      "Requirement already satisfied: networkx in e:\\python\\python311\\lib\\site-packages (from torch>=1.11.0->sentence_transformers) (3.2.1)\n",
      "Requirement already satisfied: jinja2 in e:\\python\\python311\\lib\\site-packages (from torch>=1.11.0->sentence_transformers) (3.1.2)\n",
      "Requirement already satisfied: colorama in e:\\python\\python311\\lib\\site-packages (from tqdm->sentence_transformers) (0.4.6)\n",
      "Requirement already satisfied: regex!=2019.12.17 in e:\\python\\python311\\lib\\site-packages (from transformers<5.0.0,>=4.34.0->sentence_transformers) (2023.10.3)\n",
      "Requirement already satisfied: tokenizers<0.20,>=0.19 in e:\\python\\python311\\lib\\site-packages (from transformers<5.0.0,>=4.34.0->sentence_transformers) (0.19.1)\n",
      "Requirement already satisfied: safetensors>=0.4.1 in e:\\python\\python311\\lib\\site-packages (from transformers<5.0.0,>=4.34.0->sentence_transformers) (0.4.1)\n",
      "Requirement already satisfied: joblib>=1.1.1 in e:\\python\\python311\\lib\\site-packages (from scikit-learn->sentence_transformers) (1.3.2)\n",
      "Requirement already satisfied: threadpoolctl>=2.0.0 in e:\\python\\python311\\lib\\site-packages (from scikit-learn->sentence_transformers) (3.2.0)\n",
      "Requirement already satisfied: MarkupSafe>=2.0 in e:\\python\\python311\\lib\\site-packages (from jinja2->torch>=1.11.0->sentence_transformers) (2.1.3)\n",
      "Requirement already satisfied: charset-normalizer<4,>=2 in e:\\python\\python311\\lib\\site-packages (from requests->huggingface-hub>=0.15.1->sentence_transformers) (3.3.2)\n",
      "Requirement already satisfied: idna<4,>=2.5 in e:\\python\\python311\\lib\\site-packages (from requests->huggingface-hub>=0.15.1->sentence_transformers) (3.6)\n",
      "Requirement already satisfied: urllib3<3,>=1.21.1 in e:\\python\\python311\\lib\\site-packages (from requests->huggingface-hub>=0.15.1->sentence_transformers) (1.26.18)\n",
      "Requirement already satisfied: certifi>=2017.4.17 in e:\\python\\python311\\lib\\site-packages (from requests->huggingface-hub>=0.15.1->sentence_transformers) (2023.11.17)\n",
      "Requirement already satisfied: mpmath>=0.19 in e:\\python\\python311\\lib\\site-packages (from sympy->torch>=1.11.0->sentence_transformers) (1.3.0)\n"
     ]
    }
   ],
   "source": [
    "!pip install sentence_transformers"
   ]
  },
  {
   "cell_type": "code",
   "execution_count": 4,
   "id": "4f6a1098-5eab-4be0-b132-afd65e14b245",
   "metadata": {},
   "outputs": [
    {
     "name": "stderr",
     "output_type": "stream",
     "text": [
      "E:\\Python\\Python311\\Lib\\site-packages\\tqdm\\auto.py:21: TqdmWarning: IProgress not found. Please update jupyter and ipywidgets. See https://ipywidgets.readthedocs.io/en/stable/user_install.html\n",
      "  from .autonotebook import tqdm as notebook_tqdm\n",
      "Fetching 12 files: 100%|███████████████████████████████████████████████████████████████| 12/12 [00:00<00:00, 21.47it/s]\n"
     ]
    }
   ],
   "source": [
    "download('BAAI/bge-large-zh-v1.5', 'model')"
   ]
  },
  {
   "cell_type": "code",
   "execution_count": 5,
   "id": "fd8034b3-b790-488c-b711-3cc8942718f1",
   "metadata": {},
   "outputs": [
    {
     "name": "stderr",
     "output_type": "stream",
     "text": [
      "E:\\Python\\Python311\\Lib\\site-packages\\torch\\_utils.py:831: UserWarning: TypedStorage is deprecated. It will be removed in the future and UntypedStorage will be the only storage class. This should only matter to you if you are using storages directly.  To access UntypedStorage directly, use tensor.untyped_storage() instead of tensor.storage()\n",
      "  return self.fget.__get__(instance, owner)()\n"
     ]
    }
   ],
   "source": [
    "from langchain.embeddings import HuggingFaceBgeEmbeddings\n",
    "from tqdm import tqdm_notebook as tqdm\n",
    "model_name = 'BAAI/bge-large-zh-v1.5'\n",
    "embedding_model = HuggingFaceBgeEmbeddings(\n",
    "    model_name=model_name,\n",
    "    model_kwargs={'device': 'cpu'},# 根据你的需要去选择设备\n",
    "    encode_kwargs={'normalize_embeddings': True} ,# set True to compute cosine similarity\n",
    "    query_instruction='',\n",
    "    cache_folder=f'./{model_name}'\n",
    ")"
   ]
  },
  {
   "cell_type": "markdown",
   "id": "4b3931f6-fd38-4b10-b243-2572be91bdb3",
   "metadata": {},
   "source": [
    "## 2. faiss"
   ]
  },
  {
   "cell_type": "code",
   "execution_count": 6,
   "id": "b63fb549-34d9-41f6-bf98-cd91ca8e92ec",
   "metadata": {},
   "outputs": [
    {
     "name": "stdout",
     "output_type": "stream",
     "text": [
      "Requirement already satisfied: faiss-cpu in e:\\python\\python311\\lib\\site-packages (1.8.0)\n",
      "Requirement already satisfied: numpy in e:\\python\\python311\\lib\\site-packages (from faiss-cpu) (1.26.2)\n"
     ]
    }
   ],
   "source": [
    "!pip install faiss-cpu\n",
    "# !conda install -c pytorch faiss-gpu"
   ]
  },
  {
   "cell_type": "code",
   "execution_count": 7,
   "id": "f4352132-b551-4969-987e-4514c3f14f29",
   "metadata": {},
   "outputs": [],
   "source": [
    "from langchain.text_splitter import RecursiveCharacterTextSplitter\n",
    "from langchain.vectorstores import FAISS\n",
    "from langchain.document_loaders import TextLoader"
   ]
  },
  {
   "cell_type": "code",
   "execution_count": 8,
   "id": "d18788e4-7980-4f14-a15a-feddb2e3bbab",
   "metadata": {},
   "outputs": [],
   "source": [
    "# 实例化文档加载器\n",
    "loader = TextLoader(\"./data/西游记.txt\", 'utf-8')\n",
    "# 加载文档\n",
    "documents = loader.load()\n",
    "# 实例化文本分割器\n",
    "text_splitter = RecursiveCharacterTextSplitter(chunk_size=500, chunk_overlap=0)\n",
    "# 分割文本\n",
    "docs = text_splitter.split_documents(documents)"
   ]
  },
  {
   "cell_type": "code",
   "execution_count": 9,
   "id": "1fe28d6b-e69c-48c1-99a3-55b4cec29877",
   "metadata": {
    "scrolled": true
   },
   "outputs": [
    {
     "data": {
      "text/plain": [
       "[Document(page_content='《》目录 第一回\\u3000灵根育孕源流出\\u3000心性修持大道生\\n \\n    诗曰：\\n \\n    混沌未分天地乱，茫茫渺渺无人见。\\n \\n    自从盘古破鸿蒙，开辟从兹清浊辨。\\n \\n    覆载群生仰至仁，发明万物皆成善。\\n \\n    欲知造化会元功，须看西游释厄传。', metadata={'source': './data/西游记.txt'}),\n",
       " Document(page_content='盖闻天地之数，有十二万九千六百岁为一元。将一元分为十二会，乃子、丑、寅、卯、辰、巳、午、未、申、酉、戌、亥之十二支也。每会该一万八百岁。且就一日而论：子时得阳气，而丑则鸡鸣；寅不通光，而卯则日出；辰时食后，而巳则挨排；日午天中，而未则西蹉；申时晡而日落酉；戌黄昏而人定亥。譬于大数，若到戌会之终，则天地昏蒙而万物否矣。再去五千四百岁，交亥会之初，则当黑暗，而两间人物俱无矣，故曰混沌。又五千四百岁，亥会将终，贞下起元，近子之会，而复逐渐开明。邵康节曰：“冬至子之半，天心无改移。一阳初动处，万物未生时。”到此，天始有根。再五千四百岁，正当子会，轻清上腾，有日，有月，有星，有辰。日、月、星、辰，谓之四象。故曰，天开于子。又经五千四百岁，子会将终，近丑之会，而逐渐坚实。易曰：“大哉乾元！至哉坤元！万物资生，乃顺承天。”至此，地始凝结。再五千四百岁，正当丑会，重浊下凝，有水，有火，有山，有石，有土。水、火、山、石、土谓之五形。故曰，地辟于丑。又经五千四百岁，丑会终而寅会之初，发生万物。历曰：“天气下降，地气上升；天地交合，群物皆生。”至此，天清地爽，阴阳交合。再五千四百岁，正当寅会，生人，生兽，', metadata={'source': './data/西游记.txt'}),\n",
       " Document(page_content='生禽，正谓天地人，三才定位。故曰，人生于寅。', metadata={'source': './data/西游记.txt'}),\n",
       " Document(page_content='感盘古开辟，三皇治世，五帝定伦，世界之间，遂分为四大部洲：曰东胜神洲，曰西牛贺洲，曰南赡部洲，曰北俱芦洲。这部书单表东胜神洲。海外有一国土，名曰傲来国。国近大海，海中有一座山，唤为花果山。此山乃十洲之祖脉，三岛之来龙，自开清浊而立，鸿蒙判后而成。真个好山！有词赋为证。赋曰：', metadata={'source': './data/西游记.txt'}),\n",
       " Document(page_content='势镇汪洋，威宁瑶海。势镇汪洋，潮涌银山鱼入穴；威宁瑶海，波翻雪浪蜃离渊。木火方隅高积上，东海之处耸崇巅。丹崖怪石，削壁奇峰。丹崖上，彩凤双鸣；削壁前，麒麟独卧。峰头时听锦鸡鸣，石窟每观龙出入。林中有寿鹿仙狐，树上有灵禽玄鹤。瑶草奇花不谢，青松翠柏长春。仙桃常结果，修竹每留云。一条涧壑藤萝密，四面原堤草色新。正是百川会处擎天柱，万劫无移大地根。那座山，正当顶上，有一块仙石。其石有三丈六尺五寸高，有二丈四尺围圆。三丈六尺五寸高，按周天三百六十五度；二丈四尺围圆，按政历二十四气。上有九窍八孔，按九宫八卦。四面更无树木遮阴，左右倒有芝兰相衬。盖自开辟以来，每受天真地秀，日精月华，感之既久，遂有灵通之意。内育仙胞，一日迸裂，产一石卵，似圆球样大。因见风，化作一个石猴，五官俱备，四肢皆全。便就学爬学走，拜了四方。目运两道金光，射冲斗府。惊动高天上圣大慈仁者玉皇大天尊玄穹高上帝，驾座金阙云宫灵霄宝店，聚集仙卿，见有金光焰焰，即命千里眼、顺风耳开南天门观看。二将果奉旨出门外，看的真，听的明。须臾回报道：“臣奉旨观听金光之处，乃东胜神洲海东傲来小国之界，有一座花果山，山上有一仙石，石产一卵，见风化一石', metadata={'source': './data/西游记.txt'}),\n",
       " Document(page_content='猴，在那里拜四方，眼运金光，射冲斗府。如今服饵水食，金光将潜息矣。”玉帝垂赐恩慈曰：“下方之物，乃天地精华所生，不足为异。”', metadata={'source': './data/西游记.txt'}),\n",
       " Document(page_content='那猴在山中，却会行走跳跃，食草木，饮涧泉，采山花，觅树果；与狼虫为伴，虎豹为群，獐鹿为友，猕猿为亲；夜宿石崖之下，朝游峰洞之中。真是“山中无甲子，寒尽不知年。”一朝天气炎热，与群猴避暑，都在松阴之下顽耍。你看他一个个：\\n \\n    跳树攀枝，采花觅果；抛弹子，邷么儿；跑沙窝，砌宝塔；赶蜻蜓，扑八蜡；参老天，拜菩萨；扯葛藤，编草帓；捉虱子，咬又掐；理毛衣，剔指甲；挨的挨，擦的擦；推的推，压的压；扯的扯，拉的拉，青松林下任他顽，绿水涧边随洗濯。一群猴子耍了一会，却去那山涧中洗澡。见那股涧水奔流，真个似滚瓜涌溅。古云：“禽有禽言，兽有兽语。”众猴都道：“这股水不知是那里的水。我们今日赶闲无事，顺涧边往上溜头寻看源流，耍子去耶！”喊一声，都拖男挈女，呼弟呼兄，一齐跑来，顺涧爬山，直至源流之处，乃是一股瀑布飞泉。但见那：\\n \\n    一派白虹起，千寻雪浪飞；海风吹不断，江月照还依。\\n \\n    冷气分青嶂，馀流润翠微；潺湲名瀑布，真似挂帘帷。', metadata={'source': './data/西游记.txt'}),\n",
       " Document(page_content='众猴拍手称扬道：“好水！好水！原来此处远通山脚之下，直接大海之波。”又道：“那一个有本事的，钻进去寻个源头出来，不伤身体者，我等即拜他为王。”连呼了三声，忽见丛杂中跳出一名石猴，应声高叫道：“我进去！我进去！”好猴！也是他：\\n \\n    今日芳名显，时来大运通；有缘居此地，王遣入仙宫。\\n \\n    你看他瞑目蹲身，将身一纵，径跳入瀑布泉中，忽睁睛抬头观看，那里边却无水无波，明明朗朗的一架桥梁。他住了身，定了神，仔细再看，原来是座铁板桥。桥下之水，冲贯于石窍之间，倒挂流出去，遮闭了桥门。却又欠身上桥头，再走再看，却似有人家住处一般，真个好所在。但见那：\\n \\n    翠藓堆蓝，白云浮玉，光摇片片烟霞。虚窗静室，滑凳板生花。乳窟龙珠倚挂，萦回满地奇葩。锅灶傍崖存火迹，樽罍靠案见肴渣。石座石床真可爱，石盆石碗更堪夸。又见那一竿两竿修竹，三点五点梅花。\\n \\n    几树青松常带雨，浑然相个人家。', metadata={'source': './data/西游记.txt'}),\n",
       " Document(page_content='看罢多时，跳过桥中间，左右观看，只见正当中有一石碣。碣上有一行楷书大字，镌着“花果山福地，水帘洞洞天。”石猴喜不自胜，急抽身往外便走，复瞑目蹲身，跳出水外，打了两个呵呵道：“大造化！大造化！”众猴把他围住，问道：“里面怎么样？水有多深？”石猴道：“没水！没水！原来是一座铁板桥。桥那边是一座天造地设的家当。”众猴道：“怎见得是个家当？”石猴笑道：“这股水乃是桥下冲贯石桥，倒挂下来遮闭门户的。桥边有花有树，乃是一座石房。房内有石窝、石灶、石碗、石盆、石床、石凳。中间一块石碣上，镌着‘花果山福地，水帘洞洞天。’真个是我们安身之处。里面且是宽阔，容得千百口老小。我们都进去住也，省得受老天之气。这里边：\\n \\n    刮风有处躲，下雨好存身。霜雪全无惧，雷声永不闻。\\n \\n    烟霞常照耀，祥瑞每蒸熏。松竹年年秀，奇花日日新。”', metadata={'source': './data/西游记.txt'}),\n",
       " Document(page_content='众猴听得，个个欢喜，都道：“你还先走，带我们进去，进去！”石猴却又瞑目蹲身，往里一跳，叫道：“都随我进来！进来！”那些猴有胆大的，都跳进去了；胆小的，一个个伸头缩颈，抓耳挠腮，大声叫喊，缠一会，也都进去了。跳过桥头，一个个抢盆夺碗，占灶争床，搬过来，移过去，正是猴性顽劣，再无一个宁时，只搬得力倦神疲方止。石猿端坐上面道：“列位呵，‘人而无信，不知其可。’你们才说有本事进得来，出得去，不伤身体者，就拜他为王。我如今进来又出去，出去又进来，寻了这一个洞天与列位安眠稳睡，各享成家之福，何不拜我为王？”众猴听说，即拱伏无违。一个个序齿排班，朝上礼拜，都称“千岁大王”。自此，石猴高登王位，将“石”字儿隐了，遂称美猴王。有诗为证。诗曰：\\n \\n    三阳交泰产群生，仙石胞含日月精。\\n \\n    借卵化猴完大道，假他名姓配丹成。\\n \\n    内观不识因无相，外合明知作有形。\\n \\n    历代人人皆属此，称王称圣任纵横。美猴王领一群猿猴、猕猴、马猴等，分派了君臣佐使，朝游花果山，暮宿水帘洞，合契同情，不入飞鸟之丛，不从走兽之类，独自为王，不胜欢乐。是以：', metadata={'source': './data/西游记.txt'})]"
      ]
     },
     "execution_count": 9,
     "metadata": {},
     "output_type": "execute_result"
    }
   ],
   "source": [
    "docs[:10]"
   ]
  },
  {
   "cell_type": "code",
   "execution_count": 10,
   "id": "f4f64fc5-2d88-4a7c-9bad-16df83b5e373",
   "metadata": {},
   "outputs": [],
   "source": [
    "# FAISS 向量数据库，使用 docs 的向量作为初始化存储\n",
    "db = FAISS.from_documents(docs[:10], embedding_model)"
   ]
  },
  {
   "cell_type": "code",
   "execution_count": 11,
   "id": "9136236b-f24a-4fe1-bcac-439f4e6b18a7",
   "metadata": {},
   "outputs": [
    {
     "name": "stdout",
     "output_type": "stream",
     "text": [
      "盖闻天地之数，有十二万九千六百岁为一元。将一元分为十二会，乃子、丑、寅、卯、辰、巳、午、未、申、酉、戌、亥之十二支也。每会该一万八百岁。且就一日而论：子时得阳气，而丑则鸡鸣；寅不通光，而卯则日出；辰时食后，而巳则挨排；日午天中，而未则西蹉；申时晡而日落酉；戌黄昏而人定亥。譬于大数，若到戌会之终，则天地昏蒙而万物否矣。再去五千四百岁，交亥会之初，则当黑暗，而两间人物俱无矣，故曰混沌。又五千四百岁，亥会将终，贞下起元，近子之会，而复逐渐开明。邵康节曰：“冬至子之半，天心无改移。一阳初动处，万物未生时。”到此，天始有根。再五千四百岁，正当子会，轻清上腾，有日，有月，有星，有辰。日、月、星、辰，谓之四象。故曰，天开于子。又经五千四百岁，子会将终，近丑之会，而逐渐坚实。易曰：“大哉乾元！至哉坤元！万物资生，乃顺承天。”至此，地始凝结。再五千四百岁，正当丑会，重浊下凝，有水，有火，有山，有石，有土。水、火、山、石、土谓之五形。故曰，地辟于丑。又经五千四百岁，丑会终而寅会之初，发生万物。历曰：“天气下降，地气上升；天地交合，群物皆生。”至此，天清地爽，阴阳交合。再五千四百岁，正当寅会，生人，生兽，\n"
     ]
    }
   ],
   "source": [
    "# 构造提问 Query\n",
    "query = \"又经五千四百岁，丑会终而寅会之初，发生万物\"\n",
    "# 在 Faiss 中进行相似度搜索，找出与 query 最相似结果\n",
    "docs = db.similarity_search(query)\n",
    "# 输出 Faiss 中最相似结果\n",
    "print(docs[0].page_content)"
   ]
  },
  {
   "cell_type": "code",
   "execution_count": 12,
   "id": "96760245-45bb-469f-b022-66612d816798",
   "metadata": {},
   "outputs": [],
   "source": [
    "# 持久化\n",
    "db.save_local(\"faiss_index\")"
   ]
  },
  {
   "cell_type": "code",
   "execution_count": 13,
   "id": "d18340e7-4326-4da8-aa0b-e857d3338ce5",
   "metadata": {},
   "outputs": [],
   "source": [
    "# 加载数据库\n",
    "new_db = FAISS.load_local(\"faiss_index\", embedding_model)"
   ]
  },
  {
   "cell_type": "code",
   "execution_count": 14,
   "id": "4d885334-4403-41a0-acbd-5c9f4fab5d94",
   "metadata": {},
   "outputs": [
    {
     "name": "stdout",
     "output_type": "stream",
     "text": [
      "盖闻天地之数，有十二万九千六百岁为一元。将一元分为十二会，乃子、丑、寅、卯、辰、巳、午、未、申、酉、戌、亥之十二支也。每会该一万八百岁。且就一日而论：子时得阳气，而丑则鸡鸣；寅不通光，而卯则日出；辰时食后，而巳则挨排；日午天中，而未则西蹉；申时晡而日落酉；戌黄昏而人定亥。譬于大数，若到戌会之终，则天地昏蒙而万物否矣。再去五千四百岁，交亥会之初，则当黑暗，而两间人物俱无矣，故曰混沌。又五千四百岁，亥会将终，贞下起元，近子之会，而复逐渐开明。邵康节曰：“冬至子之半，天心无改移。一阳初动处，万物未生时。”到此，天始有根。再五千四百岁，正当子会，轻清上腾，有日，有月，有星，有辰。日、月、星、辰，谓之四象。故曰，天开于子。又经五千四百岁，子会将终，近丑之会，而逐渐坚实。易曰：“大哉乾元！至哉坤元！万物资生，乃顺承天。”至此，地始凝结。再五千四百岁，正当丑会，重浊下凝，有水，有火，有山，有石，有土。水、火、山、石、土谓之五形。故曰，地辟于丑。又经五千四百岁，丑会终而寅会之初，发生万物。历曰：“天气下降，地气上升；天地交合，群物皆生。”至此，天清地爽，阴阳交合。再五千四百岁，正当寅会，生人，生兽，\n"
     ]
    }
   ],
   "source": [
    "docs = new_db.similarity_search(query)\n",
    "print(docs[0].page_content)"
   ]
  },
  {
   "cell_type": "code",
   "execution_count": 15,
   "id": "768db2dd-5ca2-40b6-9da0-a11b18043c9e",
   "metadata": {},
   "outputs": [
    {
     "data": {
      "text/plain": [
       "[(Document(page_content='生禽，正谓天地人，三才定位。故曰，人生于寅。', metadata={'source': './data/西游记.txt'}),\n",
       "  0.18734923),\n",
       " (Document(page_content='盖闻天地之数，有十二万九千六百岁为一元。将一元分为十二会，乃子、丑、寅、卯、辰、巳、午、未、申、酉、戌、亥之十二支也。每会该一万八百岁。且就一日而论：子时得阳气，而丑则鸡鸣；寅不通光，而卯则日出；辰时食后，而巳则挨排；日午天中，而未则西蹉；申时晡而日落酉；戌黄昏而人定亥。譬于大数，若到戌会之终，则天地昏蒙而万物否矣。再去五千四百岁，交亥会之初，则当黑暗，而两间人物俱无矣，故曰混沌。又五千四百岁，亥会将终，贞下起元，近子之会，而复逐渐开明。邵康节曰：“冬至子之半，天心无改移。一阳初动处，万物未生时。”到此，天始有根。再五千四百岁，正当子会，轻清上腾，有日，有月，有星，有辰。日、月、星、辰，谓之四象。故曰，天开于子。又经五千四百岁，子会将终，近丑之会，而逐渐坚实。易曰：“大哉乾元！至哉坤元！万物资生，乃顺承天。”至此，地始凝结。再五千四百岁，正当丑会，重浊下凝，有水，有火，有山，有石，有土。水、火、山、石、土谓之五形。故曰，地辟于丑。又经五千四百岁，丑会终而寅会之初，发生万物。历曰：“天气下降，地气上升；天地交合，群物皆生。”至此，天清地爽，阴阳交合。再五千四百岁，正当寅会，生人，生兽，', metadata={'source': './data/西游记.txt'}),\n",
       "  0.9508221),\n",
       " (Document(page_content='猴，在那里拜四方，眼运金光，射冲斗府。如今服饵水食，金光将潜息矣。”玉帝垂赐恩慈曰：“下方之物，乃天地精华所生，不足为异。”', metadata={'source': './data/西游记.txt'}),\n",
       "  1.0720758),\n",
       " (Document(page_content='感盘古开辟，三皇治世，五帝定伦，世界之间，遂分为四大部洲：曰东胜神洲，曰西牛贺洲，曰南赡部洲，曰北俱芦洲。这部书单表东胜神洲。海外有一国土，名曰傲来国。国近大海，海中有一座山，唤为花果山。此山乃十洲之祖脉，三岛之来龙，自开清浊而立，鸿蒙判后而成。真个好山！有词赋为证。赋曰：', metadata={'source': './data/西游记.txt'}),\n",
       "  1.1063927)]"
      ]
     },
     "execution_count": 15,
     "metadata": {},
     "output_type": "execute_result"
    }
   ],
   "source": [
    "new_db.similarity_search_with_score('生禽，正谓天地人，三才定位。故曰，人生于寅。')"
   ]
  },
  {
   "cell_type": "markdown",
   "id": "a49326a6-f882-42d8-9a65-910bfdfe0b79",
   "metadata": {},
   "source": [
    "## 3. 智谱"
   ]
  },
  {
   "cell_type": "code",
   "execution_count": 16,
   "id": "d7c65f14-1bd9-4ebd-af55-088170ba95a9",
   "metadata": {
    "scrolled": true
   },
   "outputs": [
    {
     "name": "stdout",
     "output_type": "stream",
     "text": [
      "Requirement already satisfied: zhipuai in e:\\python\\python311\\lib\\site-packages (2.0.1.20240426)\n",
      "Requirement already satisfied: cachetools>=4.2.2 in e:\\python\\python311\\lib\\site-packages (from zhipuai) (5.3.2)\n",
      "Requirement already satisfied: httpx>=0.23.0 in e:\\python\\python311\\lib\\site-packages (from zhipuai) (0.25.2)\n",
      "Requirement already satisfied: pydantic<3.0,>=1.9.0 in e:\\python\\python311\\lib\\site-packages (from zhipuai) (2.5.2)\n",
      "Requirement already satisfied: pyjwt<2.9.0,>=2.8.0 in e:\\python\\python311\\lib\\site-packages (from zhipuai) (2.8.0)\n",
      "Requirement already satisfied: anyio in e:\\python\\python311\\lib\\site-packages (from httpx>=0.23.0->zhipuai) (3.7.1)\n",
      "Requirement already satisfied: certifi in e:\\python\\python311\\lib\\site-packages (from httpx>=0.23.0->zhipuai) (2023.11.17)\n",
      "Requirement already satisfied: httpcore==1.* in e:\\python\\python311\\lib\\site-packages (from httpx>=0.23.0->zhipuai) (1.0.2)\n",
      "Requirement already satisfied: idna in e:\\python\\python311\\lib\\site-packages (from httpx>=0.23.0->zhipuai) (3.6)\n",
      "Requirement already satisfied: sniffio in e:\\python\\python311\\lib\\site-packages (from httpx>=0.23.0->zhipuai) (1.3.0)\n",
      "Requirement already satisfied: h11<0.15,>=0.13 in e:\\python\\python311\\lib\\site-packages (from httpcore==1.*->httpx>=0.23.0->zhipuai) (0.14.0)\n",
      "Requirement already satisfied: annotated-types>=0.4.0 in e:\\python\\python311\\lib\\site-packages (from pydantic<3.0,>=1.9.0->zhipuai) (0.6.0)\n",
      "Requirement already satisfied: pydantic-core==2.14.5 in e:\\python\\python311\\lib\\site-packages (from pydantic<3.0,>=1.9.0->zhipuai) (2.14.5)\n",
      "Requirement already satisfied: typing-extensions>=4.6.1 in e:\\python\\python311\\lib\\site-packages (from pydantic<3.0,>=1.9.0->zhipuai) (4.8.0)\n"
     ]
    }
   ],
   "source": [
    "!pip install zhipuai"
   ]
  },
  {
   "cell_type": "code",
   "execution_count": 17,
   "id": "5a4ef93d-be12-4009-a518-cb7995a5ce69",
   "metadata": {},
   "outputs": [],
   "source": [
    "from zhipuai import ZhipuAI\n",
    "import os\n",
    "\n",
    "ZHIPU_AI_KEY = os.environ.get('ZHIPU_AI_KEY')\n",
    "client = ZhipuAI(api_key=ZHIPU_AI_KEY) # 填写您自己的APIKey\n",
    "tokens_counter = {}"
   ]
  },
  {
   "cell_type": "code",
   "execution_count": 20,
   "id": "ecb6fe88-50eb-4df1-8175-4cb345407a57",
   "metadata": {},
   "outputs": [],
   "source": [
    "def ask_glm(system_prompt:str, prompt:str, model_name:str = 'glm-3-turbo'):\n",
    "    response = client.chat.completions.create(\n",
    "        model= model_name,  # 填写需要调用的模型名称\n",
    "        messages=[\n",
    "            {\"role\": \"system\", \"content\": system_prompt},\n",
    "            {\"role\": \"user\", \"content\": prompt}\n",
    "        ],\n",
    "        temperature=0.1,\n",
    "    )\n",
    "    \n",
    "    for k, v in json.loads(response.usage.model_dump_json()).items():\n",
    "        if k not in tokens_counter:\n",
    "            tokens_counter[k] = 0\n",
    "        tokens_counter[k] += v\n",
    "        \n",
    "    return response.choices[0].message.content"
   ]
  },
  {
   "cell_type": "markdown",
   "id": "f524a463-1fca-4d2f-99a8-b4c881f38b5e",
   "metadata": {},
   "source": [
    "提取问题和答案"
   ]
  },
  {
   "cell_type": "code",
   "execution_count": 28,
   "id": "cc7f29cf-4ad9-4870-a8ea-43ab07b0f93e",
   "metadata": {},
   "outputs": [],
   "source": [
    "import json\n",
    "def extract_qa(text, model_name:str = 'glm-3-turbo'):\n",
    "    system_prompt = \"\"\"你是一个专业的知识问答助手，你的任务是从用户输入的文本中找到问题和答案，\\\n",
    "    最后以json格式输出，输出格式为{\"query\": #问题, \"answer\": #答案}，不要包含其他输出和标注\"\"\"\n",
    "    qa_json = ask_glm(system_prompt=system_prompt, prompt=text, model_name=model_name)\n",
    "    \n",
    "    start = qa_json.find(\"{\")\n",
    "    end = qa_json.find(\"}\")\n",
    "    \n",
    "    try:\n",
    "        return json.loads(qa_json[start: end + 1])\n",
    "    \n",
    "    except Exception as e:\n",
    "        print(e, qa_json)\n",
    "        return {}"
   ]
  },
  {
   "cell_type": "code",
   "execution_count": 27,
   "id": "032b8df3-06f4-4d9b-b0c4-8c7f4471e21b",
   "metadata": {},
   "outputs": [
    {
     "data": {
      "text/plain": [
       "{'query': '弼马温是什么工作?', 'answer': '养马'}"
      ]
     },
     "execution_count": 27,
     "metadata": {},
     "output_type": "execute_result"
    }
   ],
   "source": [
    "extract_qa('弼马温是什么工作?养马')"
   ]
  },
  {
   "cell_type": "markdown",
   "id": "f9285ef5-3c43-402a-8404-338a9e859c5a",
   "metadata": {},
   "source": [
    "## 4. moonshot"
   ]
  },
  {
   "cell_type": "code",
   "execution_count": null,
   "id": "deee8478-a8d0-4202-811d-8ff37fa8a08a",
   "metadata": {},
   "outputs": [],
   "source": []
  }
 ],
 "metadata": {
  "kernelspec": {
   "display_name": "Python 3 (ipykernel)",
   "language": "python",
   "name": "python3"
  },
  "language_info": {
   "codemirror_mode": {
    "name": "ipython",
    "version": 3
   },
   "file_extension": ".py",
   "mimetype": "text/x-python",
   "name": "python",
   "nbconvert_exporter": "python",
   "pygments_lexer": "ipython3",
   "version": "3.11.6"
  }
 },
 "nbformat": 4,
 "nbformat_minor": 5
}
